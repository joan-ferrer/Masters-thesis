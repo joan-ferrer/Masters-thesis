{
 "cells": [
  {
   "cell_type": "markdown",
   "id": "236c41b0",
   "metadata": {},
   "source": [
    "## Example 4.3\n",
    "\n",
    "We first check nonnegativity computing the local minima and evaluating."
   ]
  },
  {
   "cell_type": "code",
   "execution_count": 5,
   "id": "4eaedfe4",
   "metadata": {},
   "outputs": [
    {
     "name": "stdout",
     "output_type": "stream",
     "text": [
      "\r",
      "\u001b[32mTracking 2313441 paths... 100%|█████████████████████████| Time: 0:02:43\u001b[39m\r\n",
      "\u001b[34m  # paths tracked:                  2313441\u001b[39m\r\n",
      "\u001b[34m  # non-singular solutions (real):  2304000 (8)\u001b[39m\r\n",
      "\u001b[34m  # singular endpoints (real):      0 (0)\u001b[39m\r\n",
      "\u001b[34m  # total solutions (real):         2304000 (8)\u001b[39m\n"
     ]
    },
    {
     "data": {
      "text/plain": [
       "1-element Vector{Float64}:\n",
       " -3.469446951953614e-17"
      ]
     },
     "metadata": {},
     "output_type": "display_data"
    },
    {
     "data": {
      "text/plain": [
       "4-element Vector{Float64}:\n",
       " 0.9143078267618281\n",
       " 0.9143078267618281\n",
       " 0.9143078267618281\n",
       " 0.9143078267618281"
      ]
     },
     "metadata": {},
     "output_type": "display_data"
    }
   ],
   "source": [
    "using HomotopyContinuation\n",
    "@var x[1:4];\n",
    "c=(10/9)^(9/10)*40^(1/10); #circuit number\n",
    "F=System([1+x[1]^40+x[2]^40+x[3]^40+x[4]^40-c*x[1]*x[2]*x[3]*x[4]]);\n",
    "\n",
    "#we compute the local minima\n",
    "J=System([40*x[1]^39-c*x[2]*x[3]*x[4],\n",
    "        40*x[2]^39-c*x[1]*x[3]*x[4],\n",
    "        40*x[3]^39-c*x[2]*x[1]*x[4],\n",
    "        40*x[4]^39-c*x[2]*x[3]*x[1]]);\n",
    "\n",
    "res=solve(J,start_system = :total_degree);\n",
    "sol=solutions(res;only_nonsingular=false);\n",
    "solr=real(sol); #we consider only real solutions\n",
    "\n",
    "for s in solr\n",
    "    if s[1]>0 && s[2]>0 && s[3]>0 && s[4]>0 #in our alogrithm we only care about the positive\n",
    "        if evaluate(F,s)[1]<0\n",
    "            display(evaluate(F,s))\n",
    "            display(s)\n",
    "        end  \n",
    "    end\n",
    "end"
   ]
  },
  {
   "cell_type": "markdown",
   "id": "50086cd2",
   "metadata": {},
   "source": [
    "Now we check nonnegativity using the algorithm developed in Theorem 4.2"
   ]
  },
  {
   "cell_type": "code",
   "execution_count": 6,
   "id": "16d3f0b7",
   "metadata": {},
   "outputs": [
    {
     "ename": "LoadError",
     "evalue": "OverflowError: Cannot compute a start system.",
     "output_type": "error",
     "traceback": [
      "OverflowError: Cannot compute a start system.",
      "",
      "Stacktrace:",
      " [1] compute_mixed_cells!(iter::PolyhedralStartSolutionsIterator)",
      "   @ HomotopyContinuation ~/.julia/packages/HomotopyContinuation/zGEDd/src/polyhedral.jl:48",
      " [2] iterate(iter::PolyhedralStartSolutionsIterator)",
      "   @ HomotopyContinuation ~/.julia/packages/HomotopyContinuation/zGEDd/src/polyhedral.jl:63",
      " [3] _collect(cont::UnitRange{Int64}, itr::PolyhedralStartSolutionsIterator, ::Base.HasEltype, isz::Base.SizeUnknown)",
      "   @ Base ./array.jl:770",
      " [4] collect",
      "   @ ./array.jl:759 [inlined]",
      " [5] #solve#279",
      "   @ ~/.julia/packages/HomotopyContinuation/zGEDd/src/solve.jl:501 [inlined]",
      " [6] solve(args::System; show_progress::Bool, threading::Bool, catch_interrupt::Bool, target_parameters::Nothing, stop_early_cb::Function, transform_result::Nothing, transform_parameters::typeof(identity), flatten::Nothing, target_subspaces::Nothing, kwargs::@Kwargs{start_system::Symbol})",
      "   @ HomotopyContinuation ~/.julia/packages/HomotopyContinuation/zGEDd/src/solve.jl:487",
      " [7] top-level scope",
      "   @ In[6]:12"
     ]
    }
   ],
   "source": [
    "@var x[1:4] t;\n",
    "c=(10/9)^(9/10)*40^(1/10); #circuit number\n",
    "e=rand(1:100); #random integer number between 1 and 100\n",
    "list=[]; #empty list\n",
    "\n",
    "#critical system\n",
    "C=System([1+x[1]^40+x[2]^40+x[3]^40+x[4]^40-c*x[1]*x[2]*x[3]*x[4]*t^e,\n",
    "        40*x[1]^40-c*x[1]*x[2]*x[3]*x[4]*t^e,\n",
    "        40*x[2]^40-c*x[1]*x[2]*x[3]*x[4]*t^e,\n",
    "        40*x[3]^40-c*x[1]*x[2]*x[3]*x[4]*t^e,\n",
    "        40*x[4]^40-c*x[1]*x[2]*x[3]*x[4]*t^e]);\n",
    "resc=solve(C,start_system = :polyhedral); #we use polyhedral to reduce the number of tracking paths\n",
    "solc=solutions(resc;only_nonsingular=false);\n",
    "solcr=real(solc); #we consider only real solutions\n",
    "for c in solcr\n",
    "    if c[1]>0 && c[2]>0 && c[3]>0 && c[4]>0 && c[5] #in our alogrithm we only care about positive solutions\n",
    "        push!(list,c[1]); #we collect the t-coordinate\n",
    "    end\n",
    "end\n",
    "min(list...)"
   ]
  },
  {
   "cell_type": "markdown",
   "id": "0533cc7b",
   "metadata": {},
   "source": [
    "## Example 4.7\n",
    "\n",
    "We apply our algorithm to the same polynomial now using the strategy of tracking only one path."
   ]
  },
  {
   "cell_type": "code",
   "execution_count": 7,
   "id": "f3221d80",
   "metadata": {},
   "outputs": [
    {
     "data": {
      "text/plain": [
       "1-element Vector{Vector{ComplexF64}}:\n",
       " [1.0 + 0.0im, 0.914307826761828 + 0.0im, 0.914307826761828 + 0.0im, 0.914307826761828 + 0.0im, 0.914307826761828 + 0.0im]"
      ]
     },
     "execution_count": 7,
     "metadata": {},
     "output_type": "execute_result"
    }
   ],
   "source": [
    "@var x[1:4] t c[1:6];\n",
    "n=(10/9)^(9/10)*40^(1/10); #circuit number\n",
    "e=rand(1:100); #random integer number between 1 and 100\n",
    "#critical system\n",
    "C=System([c[1]+c[2]*x[1]^40+c[3]*x[2]^40+c[4]*x[3]^40+c[5]*x[4]^40-c[6]*x[1]*x[2]*x[3]*x[4]*t^e,\n",
    "        c[2]*40*x[1]^40-c[6]*x[1]*x[2]*x[3]*x[4]*t^e,\n",
    "        c[3]*40*x[2]^40-c[6]*x[1]*x[2]*x[3]*x[4]*t^e,\n",
    "        c[4]*40*x[3]^40-c[6]*x[1]*x[2]*x[3]*x[4]*t^e,\n",
    "        c[5]*40*x[4]^40-c[6]*x[1]*x[2]*x[3]*x[4]*t^e],parameters=c);\n",
    "start_solutions = [[1,1,1,1,1]]\n",
    "p1=[0.9*n,n/40,n/40,n/40,n/40,n]; \n",
    "p2=[1,1,1,1,1,n];\n",
    "resc=solve(C,start_solutions; start_parameters=p1, target_parameters=p2);\n",
    "solutions(resc)"
   ]
  },
  {
   "cell_type": "code",
   "execution_count": null,
   "id": "8e877a3b",
   "metadata": {},
   "outputs": [],
   "source": []
  }
 ],
 "metadata": {
  "kernelspec": {
   "display_name": "Julia 1.10.3",
   "language": "julia",
   "name": "julia-1.10"
  },
  "language_info": {
   "file_extension": ".jl",
   "mimetype": "application/julia",
   "name": "julia",
   "version": "1.10.3"
  }
 },
 "nbformat": 4,
 "nbformat_minor": 5
}
